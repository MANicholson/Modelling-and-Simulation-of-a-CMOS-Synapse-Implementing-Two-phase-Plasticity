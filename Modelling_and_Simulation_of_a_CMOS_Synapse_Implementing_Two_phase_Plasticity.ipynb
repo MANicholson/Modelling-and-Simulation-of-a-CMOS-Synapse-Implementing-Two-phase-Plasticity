{
  "nbformat": 4,
  "nbformat_minor": 0,
  "metadata": {
    "colab": {
      "provenance": [],
      "collapsed_sections": [
        "LcgRr41x_HTq"
      ],
      "include_colab_link": true
    },
    "kernelspec": {
      "name": "python3",
      "display_name": "Python 3"
    },
    "language_info": {
      "name": "python"
    }
  },
  "cells": [
    {
      "cell_type": "markdown",
      "metadata": {
        "id": "view-in-github",
        "colab_type": "text"
      },
      "source": [
        "<a href=\"https://colab.research.google.com/github/MANicholson/Modelling-and-Simulation-of-a-CMOS-Synapse-Implementing-Two-phase-Plasticity/blob/main/Modelling_and_Simulation_of_a_CMOS_Synapse_Implementing_Two_phase_Plasticity.ipynb\" target=\"_parent\"><img src=\"https://colab.research.google.com/assets/colab-badge.svg\" alt=\"Open In Colab\"/></a>"
      ]
    },
    {
      "cell_type": "markdown",
      "source": [
        "# Installs and imports\n"
      ],
      "metadata": {
        "id": "tqPA3r-24fP2"
      }
    },
    {
      "cell_type": "code",
      "execution_count": 2,
      "metadata": {
        "colab": {
          "base_uri": "https://localhost:8080/"
        },
        "id": "3Uppumm0381-",
        "outputId": "e9d1bda5-1b83-402a-9504-9a04f1f333d8"
      },
      "outputs": [
        {
          "output_type": "stream",
          "name": "stdout",
          "text": [
            "Collecting snntorch\n",
            "  Downloading snntorch-0.9.1-py2.py3-none-any.whl (125 kB)\n",
            "\u001b[2K     \u001b[90m━━━━━━━━━━━━━━━━━━━━━━━━━━━━━━━━━━━━━━━━\u001b[0m \u001b[32m125.3/125.3 kB\u001b[0m \u001b[31m1.6 MB/s\u001b[0m eta \u001b[36m0:00:00\u001b[0m\n",
            "\u001b[?25hRequirement already satisfied: torch>=1.1.0 in /usr/local/lib/python3.10/dist-packages (from snntorch) (2.3.0+cu121)\n",
            "Requirement already satisfied: pandas in /usr/local/lib/python3.10/dist-packages (from snntorch) (2.0.3)\n",
            "Requirement already satisfied: matplotlib in /usr/local/lib/python3.10/dist-packages (from snntorch) (3.7.1)\n",
            "Requirement already satisfied: numpy>=1.17 in /usr/local/lib/python3.10/dist-packages (from snntorch) (1.25.2)\n",
            "Collecting nir (from snntorch)\n",
            "  Downloading nir-1.0.4-py3-none-any.whl (18 kB)\n",
            "Collecting nirtorch (from snntorch)\n",
            "  Downloading nirtorch-1.0-py3-none-any.whl (13 kB)\n",
            "Requirement already satisfied: filelock in /usr/local/lib/python3.10/dist-packages (from torch>=1.1.0->snntorch) (3.15.4)\n",
            "Requirement already satisfied: typing-extensions>=4.8.0 in /usr/local/lib/python3.10/dist-packages (from torch>=1.1.0->snntorch) (4.12.2)\n",
            "Requirement already satisfied: sympy in /usr/local/lib/python3.10/dist-packages (from torch>=1.1.0->snntorch) (1.12.1)\n",
            "Requirement already satisfied: networkx in /usr/local/lib/python3.10/dist-packages (from torch>=1.1.0->snntorch) (3.3)\n",
            "Requirement already satisfied: jinja2 in /usr/local/lib/python3.10/dist-packages (from torch>=1.1.0->snntorch) (3.1.4)\n",
            "Requirement already satisfied: fsspec in /usr/local/lib/python3.10/dist-packages (from torch>=1.1.0->snntorch) (2023.6.0)\n",
            "Collecting nvidia-cuda-nvrtc-cu12==12.1.105 (from torch>=1.1.0->snntorch)\n",
            "  Using cached nvidia_cuda_nvrtc_cu12-12.1.105-py3-none-manylinux1_x86_64.whl (23.7 MB)\n",
            "Collecting nvidia-cuda-runtime-cu12==12.1.105 (from torch>=1.1.0->snntorch)\n",
            "  Using cached nvidia_cuda_runtime_cu12-12.1.105-py3-none-manylinux1_x86_64.whl (823 kB)\n",
            "Collecting nvidia-cuda-cupti-cu12==12.1.105 (from torch>=1.1.0->snntorch)\n",
            "  Using cached nvidia_cuda_cupti_cu12-12.1.105-py3-none-manylinux1_x86_64.whl (14.1 MB)\n",
            "Collecting nvidia-cudnn-cu12==8.9.2.26 (from torch>=1.1.0->snntorch)\n",
            "  Using cached nvidia_cudnn_cu12-8.9.2.26-py3-none-manylinux1_x86_64.whl (731.7 MB)\n",
            "Collecting nvidia-cublas-cu12==12.1.3.1 (from torch>=1.1.0->snntorch)\n",
            "  Using cached nvidia_cublas_cu12-12.1.3.1-py3-none-manylinux1_x86_64.whl (410.6 MB)\n",
            "Collecting nvidia-cufft-cu12==11.0.2.54 (from torch>=1.1.0->snntorch)\n",
            "  Using cached nvidia_cufft_cu12-11.0.2.54-py3-none-manylinux1_x86_64.whl (121.6 MB)\n",
            "Collecting nvidia-curand-cu12==10.3.2.106 (from torch>=1.1.0->snntorch)\n",
            "  Using cached nvidia_curand_cu12-10.3.2.106-py3-none-manylinux1_x86_64.whl (56.5 MB)\n",
            "Collecting nvidia-cusolver-cu12==11.4.5.107 (from torch>=1.1.0->snntorch)\n",
            "  Using cached nvidia_cusolver_cu12-11.4.5.107-py3-none-manylinux1_x86_64.whl (124.2 MB)\n",
            "Collecting nvidia-cusparse-cu12==12.1.0.106 (from torch>=1.1.0->snntorch)\n",
            "  Using cached nvidia_cusparse_cu12-12.1.0.106-py3-none-manylinux1_x86_64.whl (196.0 MB)\n",
            "Collecting nvidia-nccl-cu12==2.20.5 (from torch>=1.1.0->snntorch)\n",
            "  Using cached nvidia_nccl_cu12-2.20.5-py3-none-manylinux2014_x86_64.whl (176.2 MB)\n",
            "Collecting nvidia-nvtx-cu12==12.1.105 (from torch>=1.1.0->snntorch)\n",
            "  Using cached nvidia_nvtx_cu12-12.1.105-py3-none-manylinux1_x86_64.whl (99 kB)\n",
            "Requirement already satisfied: triton==2.3.0 in /usr/local/lib/python3.10/dist-packages (from torch>=1.1.0->snntorch) (2.3.0)\n",
            "Collecting nvidia-nvjitlink-cu12 (from nvidia-cusolver-cu12==11.4.5.107->torch>=1.1.0->snntorch)\n",
            "  Downloading nvidia_nvjitlink_cu12-12.5.82-py3-none-manylinux2014_x86_64.whl (21.3 MB)\n",
            "\u001b[2K     \u001b[90m━━━━━━━━━━━━━━━━━━━━━━━━━━━━━━━━━━━━━━━━\u001b[0m \u001b[32m21.3/21.3 MB\u001b[0m \u001b[31m32.6 MB/s\u001b[0m eta \u001b[36m0:00:00\u001b[0m\n",
            "\u001b[?25hRequirement already satisfied: contourpy>=1.0.1 in /usr/local/lib/python3.10/dist-packages (from matplotlib->snntorch) (1.2.1)\n",
            "Requirement already satisfied: cycler>=0.10 in /usr/local/lib/python3.10/dist-packages (from matplotlib->snntorch) (0.12.1)\n",
            "Requirement already satisfied: fonttools>=4.22.0 in /usr/local/lib/python3.10/dist-packages (from matplotlib->snntorch) (4.53.0)\n",
            "Requirement already satisfied: kiwisolver>=1.0.1 in /usr/local/lib/python3.10/dist-packages (from matplotlib->snntorch) (1.4.5)\n",
            "Requirement already satisfied: packaging>=20.0 in /usr/local/lib/python3.10/dist-packages (from matplotlib->snntorch) (24.1)\n",
            "Requirement already satisfied: pillow>=6.2.0 in /usr/local/lib/python3.10/dist-packages (from matplotlib->snntorch) (9.4.0)\n",
            "Requirement already satisfied: pyparsing>=2.3.1 in /usr/local/lib/python3.10/dist-packages (from matplotlib->snntorch) (3.1.2)\n",
            "Requirement already satisfied: python-dateutil>=2.7 in /usr/local/lib/python3.10/dist-packages (from matplotlib->snntorch) (2.8.2)\n",
            "Requirement already satisfied: h5py in /usr/local/lib/python3.10/dist-packages (from nir->snntorch) (3.9.0)\n",
            "Requirement already satisfied: pytz>=2020.1 in /usr/local/lib/python3.10/dist-packages (from pandas->snntorch) (2023.4)\n",
            "Requirement already satisfied: tzdata>=2022.1 in /usr/local/lib/python3.10/dist-packages (from pandas->snntorch) (2024.1)\n",
            "Requirement already satisfied: six>=1.5 in /usr/local/lib/python3.10/dist-packages (from python-dateutil>=2.7->matplotlib->snntorch) (1.16.0)\n",
            "Requirement already satisfied: MarkupSafe>=2.0 in /usr/local/lib/python3.10/dist-packages (from jinja2->torch>=1.1.0->snntorch) (2.1.5)\n",
            "Requirement already satisfied: mpmath<1.4.0,>=1.1.0 in /usr/local/lib/python3.10/dist-packages (from sympy->torch>=1.1.0->snntorch) (1.3.0)\n",
            "Installing collected packages: nvidia-nvtx-cu12, nvidia-nvjitlink-cu12, nvidia-nccl-cu12, nvidia-curand-cu12, nvidia-cufft-cu12, nvidia-cuda-runtime-cu12, nvidia-cuda-nvrtc-cu12, nvidia-cuda-cupti-cu12, nvidia-cublas-cu12, nvidia-cusparse-cu12, nvidia-cudnn-cu12, nir, nvidia-cusolver-cu12, nirtorch, snntorch\n",
            "Successfully installed nir-1.0.4 nirtorch-1.0 nvidia-cublas-cu12-12.1.3.1 nvidia-cuda-cupti-cu12-12.1.105 nvidia-cuda-nvrtc-cu12-12.1.105 nvidia-cuda-runtime-cu12-12.1.105 nvidia-cudnn-cu12-8.9.2.26 nvidia-cufft-cu12-11.0.2.54 nvidia-curand-cu12-10.3.2.106 nvidia-cusolver-cu12-11.4.5.107 nvidia-cusparse-cu12-12.1.0.106 nvidia-nccl-cu12-2.20.5 nvidia-nvjitlink-cu12-12.5.82 nvidia-nvtx-cu12-12.1.105 snntorch-0.9.1\n"
          ]
        }
      ],
      "source": [
        "!pip install snntorch"
      ]
    },
    {
      "cell_type": "code",
      "source": [
        "!pip install equinox"
      ],
      "metadata": {
        "colab": {
          "base_uri": "https://localhost:8080/"
        },
        "id": "mBKTThO53_E3",
        "outputId": "9350ec18-0ead-4d01-a35a-ebcdaa7b2f9b"
      },
      "execution_count": 3,
      "outputs": [
        {
          "output_type": "stream",
          "name": "stdout",
          "text": [
            "Collecting equinox\n",
            "  Downloading equinox-0.11.4-py3-none-any.whl (175 kB)\n",
            "\u001b[2K     \u001b[90m━━━━━━━━━━━━━━━━━━━━━━━━━━━━━━━━━━━━━━━━\u001b[0m \u001b[32m175.2/175.2 kB\u001b[0m \u001b[31m3.1 MB/s\u001b[0m eta \u001b[36m0:00:00\u001b[0m\n",
            "\u001b[?25hRequirement already satisfied: jax>=0.4.13 in /usr/local/lib/python3.10/dist-packages (from equinox) (0.4.26)\n",
            "Collecting jaxtyping>=0.2.20 (from equinox)\n",
            "  Downloading jaxtyping-0.2.33-py3-none-any.whl (42 kB)\n",
            "\u001b[2K     \u001b[90m━━━━━━━━━━━━━━━━━━━━━━━━━━━━━━━━━━━━━━━━\u001b[0m \u001b[32m42.4/42.4 kB\u001b[0m \u001b[31m2.7 MB/s\u001b[0m eta \u001b[36m0:00:00\u001b[0m\n",
            "\u001b[?25hRequirement already satisfied: typing-extensions>=4.5.0 in /usr/local/lib/python3.10/dist-packages (from equinox) (4.12.2)\n",
            "Requirement already satisfied: ml-dtypes>=0.2.0 in /usr/local/lib/python3.10/dist-packages (from jax>=0.4.13->equinox) (0.2.0)\n",
            "Requirement already satisfied: numpy>=1.22 in /usr/local/lib/python3.10/dist-packages (from jax>=0.4.13->equinox) (1.25.2)\n",
            "Requirement already satisfied: opt-einsum in /usr/local/lib/python3.10/dist-packages (from jax>=0.4.13->equinox) (3.3.0)\n",
            "Requirement already satisfied: scipy>=1.9 in /usr/local/lib/python3.10/dist-packages (from jax>=0.4.13->equinox) (1.11.4)\n",
            "Collecting typeguard==2.13.3 (from jaxtyping>=0.2.20->equinox)\n",
            "  Downloading typeguard-2.13.3-py3-none-any.whl (17 kB)\n",
            "Installing collected packages: typeguard, jaxtyping, equinox\n",
            "Successfully installed equinox-0.11.4 jaxtyping-0.2.33 typeguard-2.13.3\n"
          ]
        }
      ]
    },
    {
      "cell_type": "code",
      "source": [
        "import jax\n",
        "import random\n",
        "import jax.numpy as jnp\n",
        "import numpy as np\n",
        "import matplotlib.pyplot as plt\n",
        "import equinox as eqx\n",
        "import snntorch as snn\n",
        "import torch\n",
        "from snntorch import spikegen\n",
        "import pandas as pd"
      ],
      "metadata": {
        "id": "zED0I6Ab4CNT"
      },
      "execution_count": 4,
      "outputs": []
    },
    {
      "cell_type": "markdown",
      "source": [
        "# Importing data\n"
      ],
      "metadata": {
        "id": "wl7BSfBb4i1O"
      }
    },
    {
      "cell_type": "code",
      "source": [
        "# Mounting drive\n",
        "\n",
        "from google.colab import drive\n",
        "drive.mount('/content/drive')"
      ],
      "metadata": {
        "colab": {
          "base_uri": "https://localhost:8080/"
        },
        "id": "b6ip2bOC4iNv",
        "outputId": "df04922d-ba59-4e92-9ff4-6cd1529288f1"
      },
      "execution_count": 5,
      "outputs": [
        {
          "output_type": "stream",
          "name": "stdout",
          "text": [
            "Mounted at /content/drive\n"
          ]
        }
      ]
    },
    {
      "cell_type": "code",
      "source": [
        "# Importing the data from drive\n",
        "\n",
        "arr_full_path = '/content/drive/ ... '\n",
        "df = pd.read_csv(arr_full_path)\n",
        "\n",
        "arr_test_path = '/content/drive/ ... '\n",
        "df_test = pd.read_csv(arr_test_path)\n"
      ],
      "metadata": {
        "id": "u42o20KsPo3f"
      },
      "execution_count": 7,
      "outputs": []
    },
    {
      "cell_type": "markdown",
      "source": [
        "## Translating dataset data into input spikes"
      ],
      "metadata": {
        "id": "1T-PRgd4XWTZ"
      }
    },
    {
      "cell_type": "code",
      "source": [
        "# Print df to check it is the desired file\n",
        "print(df)"
      ],
      "metadata": {
        "id": "x5yFY7oHcHG1",
        "colab": {
          "base_uri": "https://localhost:8080/"
        },
        "outputId": "899cf595-dc02-4539-c785-bac0504f7eb2"
      },
      "execution_count": 8,
      "outputs": [
        {
          "output_type": "stream",
          "name": "stdout",
          "text": [
            "     label  1x1  1x2  1x3  1x4  1x5  1x6  1x7  1x8  1x9  ...  28x19  28x20  \\\n",
            "0        0    0    0    0    0    0    0    0    0    0  ...      0      0   \n",
            "1        1    0    0    0    0    0    0    0    0    0  ...      0      0   \n",
            "2        1    0    0    0    0    0    0    0    0    0  ...      0      0   \n",
            "3        1    0    0    0    0    0    0    0    0    0  ...      0      0   \n",
            "4        1    0    0    0    0    0    0    0    0    0  ...      0      0   \n",
            "..     ...  ...  ...  ...  ...  ...  ...  ...  ...  ...  ...    ...    ...   \n",
            "163      0    0    0    0    0    0    0    0    0    0  ...      0      0   \n",
            "164      0    0    0    0    0    0    0    0    0    0  ...      0      0   \n",
            "165      1    0    0    0    0    0    0    0    0    0  ...      0      0   \n",
            "166      0    0    0    0    0    0    0    0    0    0  ...      0      0   \n",
            "167      0    0    0    0    0    0    0    0    0    0  ...      0      0   \n",
            "\n",
            "     28x21  28x22  28x23  28x24  28x25  28x26  28x27  28x28  \n",
            "0        0      0      0      0      0      0      0      0  \n",
            "1        0      0      0      0      0      0      0      0  \n",
            "2        0      0      0      0      0      0      0      0  \n",
            "3        0      0      0      0      0      0      0      0  \n",
            "4        0      0      0      0      0      0      0      0  \n",
            "..     ...    ...    ...    ...    ...    ...    ...    ...  \n",
            "163      0      0      0      0      0      0      0      0  \n",
            "164      0      0      0      0      0      0      0      0  \n",
            "165      0      0      0      0      0      0      0      0  \n",
            "166      0      0      0      0      0      0      0      0  \n",
            "167      0      0      0      0      0      0      0      0  \n",
            "\n",
            "[168 rows x 785 columns]\n"
          ]
        }
      ]
    },
    {
      "cell_type": "code",
      "source": [
        "# Parameters required to produce spike input\n",
        "\n",
        "spike_length = 150 # Length of time (in ms) each sample is presented to the network\n",
        "gap_length = 200 # Length of time (in ms) between training samples\n",
        "Number_synapses = 28*28\n",
        "dt = 0.001 # Time step\n",
        "max_spiking_frequency = 40 # Maximum spiking frequency in Hz"
      ],
      "metadata": {
        "id": "6aD91UcoaNA7"
      },
      "execution_count": 9,
      "outputs": []
    },
    {
      "cell_type": "code",
      "source": [
        "# Code to transform datasets into input spike arrays that will be fed to the\n",
        "# neural network.\n",
        "\n",
        "def generate_input_spikes(df, spike_length, dt, gap_length, number_synapses):\n",
        "    def generate_spike_train(value, length, dt):\n",
        "        frequency = (value / 255) * max_spiking_frequency  # Spiking frequency in Hz\n",
        "        num_spikes = int(frequency * length * dt)\n",
        "        spike_train = np.zeros(length)\n",
        "\n",
        "        if num_spikes > 0:\n",
        "            if num_spikes >= length:\n",
        "                spike_train[:] = 1\n",
        "            else:\n",
        "                interval = length // num_spikes\n",
        "                for i in range(num_spikes):\n",
        "                    spike_train[i * interval] = 1\n",
        "\n",
        "        return spike_train\n",
        "\n",
        "    def column_to_spike_array(column):\n",
        "        spike_array = []\n",
        "        for value in column:\n",
        "            spike_train = generate_spike_train(value, spike_length, dt)\n",
        "            spike_array.append(spike_train)\n",
        "            spike_array.append(np.zeros(gap_length))\n",
        "        return np.concatenate(spike_array)\n",
        "\n",
        "    input_spikes = []\n",
        "    for column in df.columns[1:]:\n",
        "        spike_array = jnp.array(column_to_spike_array(df[column]))\n",
        "        input_spikes.append(spike_array)\n",
        "\n",
        "    input_spikes = jnp.array(input_spikes)\n",
        "    input_spikes = input_spikes.reshape(number_synapses, 1, input_spikes.shape[1])\n",
        "\n",
        "    print(\"Output array shape:\", input_spikes.shape)\n",
        "    return input_spikes\n"
      ],
      "metadata": {
        "id": "Psm7lOcvcbYT"
      },
      "execution_count": 10,
      "outputs": []
    },
    {
      "cell_type": "markdown",
      "source": [
        "## Producing the training input"
      ],
      "metadata": {
        "id": "bkBO6jHUanIW"
      }
    },
    {
      "cell_type": "code",
      "source": [
        "INPUT_SPIKES = generate_input_spikes(df, spike_length, dt, gap_length, Number_synapses)"
      ],
      "metadata": {
        "id": "boFH1xq0bp2m",
        "colab": {
          "base_uri": "https://localhost:8080/"
        },
        "outputId": "c59eb91d-6b58-473f-ebad-e26e535ccb45"
      },
      "execution_count": 11,
      "outputs": [
        {
          "output_type": "stream",
          "name": "stdout",
          "text": [
            "Output array shape: (784, 1, 58800)\n"
          ]
        }
      ]
    },
    {
      "cell_type": "markdown",
      "source": [
        "## Producing the test input"
      ],
      "metadata": {
        "id": "fL6FSBtaasnm"
      }
    },
    {
      "cell_type": "code",
      "source": [
        "INPUT_SPIKES_TEST = generate_input_spikes(df_test, spike_length, dt, gap_length, Number_synapses)"
      ],
      "metadata": {
        "id": "RbrUjotqb9Le",
        "colab": {
          "base_uri": "https://localhost:8080/"
        },
        "outputId": "bb6d3555-d070-4e02-e78f-5a55f915d385"
      },
      "execution_count": 12,
      "outputs": [
        {
          "output_type": "stream",
          "name": "stdout",
          "text": [
            "Output array shape: (784, 1, 35000)\n"
          ]
        }
      ]
    },
    {
      "cell_type": "markdown",
      "source": [
        "## Generating the stimulus input"
      ],
      "metadata": {
        "id": "PeSZkCauXZxc"
      }
    },
    {
      "cell_type": "code",
      "source": [
        "# Parameters required to produce spike input\n",
        "\n",
        "stimulus_magnitude = 1e-9\n",
        "number_secondary_neurons =   2"
      ],
      "metadata": {
        "id": "R6jfIegKcWY6"
      },
      "execution_count": 13,
      "outputs": []
    },
    {
      "cell_type": "code",
      "source": [
        "def create_input_stimuli(df, spike_length, gap_length, stimulus_magnitude, number_secondary_neurons):\n",
        "    def create_input_stimulus(df, desired_value, stimulus_magnitude):\n",
        "        result_array = []\n",
        "        for value in df.iloc[:, 0]:  # Iterate through the first column\n",
        "            if value == desired_value:\n",
        "                result_array.extend([stimulus_magnitude] * spike_length)\n",
        "                result_array.extend([0] * gap_length)\n",
        "            else:\n",
        "                result_array.extend([-stimulus_magnitude] * spike_length)\n",
        "                result_array.extend([0] * gap_length)\n",
        "        return np.array(result_array)\n",
        "\n",
        "    stimuli = []\n",
        "    for i in range(number_secondary_neurons):\n",
        "        stim = jnp.array([create_input_stimulus(df, i, stimulus_magnitude)])\n",
        "        stimuli.append(stim)\n",
        "\n",
        "    return stimuli\n",
        "\n",
        "stimuli = create_input_stimuli(df, spike_length, gap_length, stimulus_magnitude, number_secondary_neurons)\n"
      ],
      "metadata": {
        "id": "dnqGMOoYcQA-"
      },
      "execution_count": 14,
      "outputs": []
    },
    {
      "cell_type": "markdown",
      "source": [
        "# Base code for neural network"
      ],
      "metadata": {
        "id": "LcgRr41x_HTq"
      }
    },
    {
      "cell_type": "code",
      "source": [
        "import equinox as eqx\n",
        "import jax\n",
        "import jax.numpy as jnp\n",
        "import numpy as np\n",
        "\n",
        "class many_synapse(eqx.Module):\n",
        "    tau_DPI: float\n",
        "    dt: float\n",
        "    delta_capre: float\n",
        "    delta_capost: float\n",
        "    I_TH: float\n",
        "    I_INDC: float\n",
        "    I_TAU: float\n",
        "    ica_0: float\n",
        "    C: float\n",
        "    v_H0: float\n",
        "    I_THPOT: float\n",
        "    I_THDEP: float\n",
        "    I_TAILP: float\n",
        "    I_TAILP_low: float\n",
        "    I_TAILD: float\n",
        "    I_TAILD_low: float\n",
        "    i_hrn: float\n",
        "    i_hrp: float\n",
        "    v_h0: float\n",
        "    V_DD: float\n",
        "    tau_z_c: float\n",
        "    z_max: float\n",
        "    z_min: float\n",
        "    theta_tag_c: float\n",
        "    alpha: float\n",
        "    theta_pro_circuit: float\n",
        "    z_0: float\n",
        "    beta: float\n",
        "    reset_voltage: float\n",
        "    V_rev: float\n",
        "    V_spike_threshold: float\n",
        "    tau_m: float\n",
        "    R_m: float\n",
        "    refractory_period: float\n",
        "    h_0: float = 0.0\n",
        "\n",
        "    def __call__(self, t_spike_pre_array, I_stim):\n",
        "        num_input_neurons = t_spike_pre_array.shape[0]\n",
        "\n",
        "        # Initial states\n",
        "        i_ca = jnp.zeros((num_input_neurons, 1)) + self.ica_0\n",
        "        v_h = jnp.zeros((num_input_neurons, 1)) + self.v_h0\n",
        "        z_ji = jnp.zeros((num_input_neurons, 1)) + self.z_0\n",
        "        w_ji = jnp.zeros((num_input_neurons, 1)) + self.beta * self.v_h0 + self.beta * self.v_h0 * self.z_0\n",
        "        V_i = jnp.zeros((1,)) + self.V_rev\n",
        "        p_i = jnp.zeros((num_input_neurons, 1))\n",
        "        t_spike_post = 0.0  # Initialize t_spike_post to 0\n",
        "        refractory_timer = jnp.zeros((1,))\n",
        "\n",
        "        # Lists to store the results\n",
        "        V_i_list = []\n",
        "        t_spike_post_list = []\n",
        "\n",
        "        def step(carry, input_):\n",
        "            t_spike_post, i_ca, v_h, z_ji, p_i, w_ji, V_i, refractory_timer = carry\n",
        "            t_spike_pre, I_stim = input_\n",
        "\n",
        "            # Code for the neurons in the second layer:..............................\n",
        "\n",
        "            in_refractory = jnp.squeeze(refractory_timer > 0)\n",
        "            V_i = jax.lax.cond(in_refractory, lambda _: jnp.array([self.reset_voltage]), lambda _: V_i, operand=None)\n",
        "\n",
        "            inhibition_condition = jnp.squeeze(jnp.sum(I_stim) < 0)\n",
        "\n",
        "            reversal_term = (1 / self.tau_m) * (-V_i + self.V_rev)\n",
        "            pre_spike_contribution = (1 / self.tau_m) * jnp.sum(t_spike_pre * w_ji)\n",
        "            current_term = (1 / self.tau_m) * jnp.sum((self.R_m * I_stim))\n",
        "\n",
        "            spike_condition = jnp.squeeze(V_i > self.V_spike_threshold)\n",
        "\n",
        "            V_i_new = jax.lax.cond(spike_condition, lambda _: jnp.array([self.reset_voltage]), lambda _: V_i + (reversal_term + current_term) * self.dt + pre_spike_contribution, operand=None)\n",
        "            #For inhibition\n",
        "            V_i_new = jax.lax.cond(inhibition_condition, lambda _: jnp.array([self.reset_voltage]), lambda _: V_i + (reversal_term + current_term) * self.dt + pre_spike_contribution, operand=None)\n",
        "\n",
        "            # Update t_spike_post based on spike condition\n",
        "            t_spike_post_new = jax.lax.cond(spike_condition, lambda _: 1.0, lambda _: 0.0, operand=None)\n",
        "            t_spike_post_list.append(t_spike_post_new)\n",
        "\n",
        "            refractory_timer_new = jax.lax.cond(spike_condition, lambda _: jnp.array([self.refractory_period]), lambda _: jax.numpy.maximum(refractory_timer - self.dt, 0), operand=None)\n",
        "\n",
        "            # Calcium part ---------------------------------------------------------\n",
        "            dica_dt = (1 / self.tau_DPI) * (-i_ca + self.I_TH * self.I_INDC / self.I_TAU)\n",
        "            ica_pre_increase = t_spike_pre * self.delta_capre #\n",
        "            ica_post_increase = t_spike_post_new * self.delta_capost\n",
        "            i_ca_new = i_ca + dica_dt * self.dt + ica_pre_increase.T + ica_post_increase\n",
        "\n",
        "            # Early-phase part -----------------------------------------------------\n",
        "            recovery_condition = jnp.squeeze(v_h > self.v_H0)\n",
        "            potentiation_condition = jnp.squeeze(i_ca_new > self.I_THPOT)\n",
        "            depression_condition = jnp.squeeze(i_ca_new > self.I_THDEP)\n",
        "\n",
        "            i_recovery = jnp.array([jnp.where(recovery_condition, - self.i_hrn, self.i_hrp)])\n",
        "\n",
        "            i_potentiation = jnp.array([jnp.where(potentiation_condition, self.I_TAILP, self.I_TAILP_low)])\n",
        "\n",
        "            i_depression = jnp.array([jnp.where(depression_condition, - self.I_TAILD, self.I_TAILD_low)])\n",
        "\n",
        "            v_h_new = v_h + (1 / self.C) * (i_recovery.T + i_potentiation.T + i_depression.T) * self.dt\n",
        "\n",
        "            # Ensure v_h_new is not less than 0\n",
        "            v_h_new = jnp.maximum(v_h_new, 0)\n",
        "\n",
        "            # Late-phase part ------------------------------------------------------\n",
        "            epsilon_hi = jnp.abs(v_h_new - self.v_h0)\n",
        "            condition = jnp.array([jnp.squeeze(epsilon_hi > self.theta_pro_circuit)])\n",
        "            #p_i = jax.lax.cond(condition, lambda _: self.alpha, lambda _: p_i, operand=None)\n",
        "            p_i = jnp.where(condition.T, self.alpha, p_i)\n",
        "            pot_term = p_i * (self.z_max - z_ji) * ((v_h_new - self.v_h0 - self.theta_tag_c) > 0)\n",
        "            dep_term = p_i * (z_ji - self.z_min) * ((self.h_0 - v_h_new - self.theta_tag_c) > 0)\n",
        "            dz_dt = (1 / self.tau_z_c) * (pot_term - dep_term)\n",
        "            z_ji_new = z_ji + dz_dt * self.dt\n",
        "\n",
        "            # Ensure z_ji_new is not less than 0\n",
        "            z_ji_new = jnp.maximum(z_ji_new, 0)\n",
        "\n",
        "            # Total synaptic weight ------------------------------------------------\n",
        "            w_ji_new = self.beta * v_h_new + self.beta * self.v_h0 * z_ji_new\n",
        "\n",
        "            V_i_list.append(V_i_new)\n",
        "\n",
        "            carry = (t_spike_post_new, i_ca_new, v_h_new, z_ji_new, p_i, w_ji_new, V_i_new, refractory_timer_new)\n",
        "            return carry, (i_ca_new, v_h_new, z_ji_new, w_ji_new, V_i_new, t_spike_post_new)\n",
        "\n",
        "        carry = (t_spike_post, i_ca, v_h, z_ji, p_i, w_ji, V_i, refractory_timer)\n",
        "        _, (i_ca, v_h, z_ji, w_ji, V_i, t_spike_post) = jax.lax.scan(step, carry, (t_spike_pre_array.T, I_stim.T))\n",
        "\n",
        "        time_array = jnp.arange(len((i_ca.T)[0][0])) * self.dt\n",
        "\n",
        "        return i_ca.T, v_h.T, z_ji.T, w_ji.T, jnp.concatenate(V_i), t_spike_post, time_array\n"
      ],
      "metadata": {
        "id": "QcmkJH6s6ADg"
      },
      "execution_count": 15,
      "outputs": []
    },
    {
      "cell_type": "markdown",
      "source": [
        "## Differential constants"
      ],
      "metadata": {
        "id": "6n6nfWkr_LnK"
      }
    },
    {
      "cell_type": "code",
      "source": [
        "# Constants\n",
        "\n",
        "# tc_delay = 0.0188  # Delay of postsynaptic calcium influx after presynaptic spike [s]\n",
        "c_pre = 0.6  # Presynaptic calcium contribution [in vivo adjusted]\n",
        "c_post = 0.1655  # Postsynaptic calcium contribution [in vivo adjusted]\n",
        "tau_c = 0.0488  # Calcium time constant [s]\n",
        "tau_h = 688.4  # Early-phase time constant [s]\n",
        "tau_p = 60*60  # Protein time constant [s]\n",
        "tau_z = 60*60  # Late-phase time constant [s]\n",
        "# nu_th = 40  # Firing rate threshold for LTP induction [Hz]\n",
        "gamma_p = 1645.6  # Potentiation rate\n",
        "gamma_d = 313.1  # Depression rate\n",
        "theta_p = 0.003 # ALTERED FROM 3  # Calcium threshold for potentiation\n",
        "theta_d = 0.002 # ALTERED FROM 1.2  # Calcium threshold for depression\n",
        "# sigma_pl = 2.90436 * 10**(-3)  # Standard deviation for plasticity fluctuations [V]\n",
        "alpha = 1.0  # Protein synthesis rate\n",
        "theta_pro = 0.003 #2.10037  * 10**(-3)  # Protein synthesis threshold [V]\n",
        "theta_tag = 0.840149  * 10**(-3)  # Tagging threshold [V]\n",
        "h_0 = 4.20075  * 10**(-3) # Median initial excitatory→excitatory coupling strength [V]\n",
        "h_init = h_0\n",
        "z_0 = 0.01\n",
        "\n",
        "# Constants required to combine results from following the logic of the circuits in\n",
        "# \"CMOS circuit design of a multi-timescale learning rule for spiking neural networks\" by Jorge Navarro Quijada\n",
        "# and the results obtained using the differential equations in https://doi.org/10.1007/s12559-022-10021-7\n",
        "\n",
        "h_max = 10 * 10**(-3) # The maximum value of the early-phase variable [V]\n",
        "z_max = 1 # The minimum value of the late-phase variable\n",
        "z_min = - 0.5 # The maximum value of the late-phase variable\n",
        "\n",
        "beta = 4.6675*10**(-3) # The conversion factor to match the outputs of the two methods"
      ],
      "metadata": {
        "id": "fZayZoZq_M3y"
      },
      "execution_count": 16,
      "outputs": []
    },
    {
      "cell_type": "markdown",
      "source": [
        "## Circuit constants"
      ],
      "metadata": {
        "id": "N128pipz_N8M"
      }
    },
    {
      "cell_type": "code",
      "source": [
        "# Calcium:\n",
        "I_INDC = 25 * 10**(-12) # The DC component of the tail current to stimulate the DPI.\n",
        "# i_pre = 800 * 10**(-12)\n",
        "# i_post = 200 * 10**(-12)\n",
        "tau_DPI = 0.00488  # The time constant of the DPI.\n",
        "I_TH = 10 * 10**(-12) # The current to tune the gain of the DPI.\n",
        "I_TAU = 20 * 10**(-12) # The current to tune the time constant of the DPI.\n",
        "ica_0 = 17 * 10**(-12) # The initial calcium concentration current.\n",
        "delta_capre = 15 * 10**(-12) # The contribution of a presynaptic spike to the calcium concentration current.\n",
        "delta_capost = 15 * 10**(-12) # The contribution of a postsynaptic spike to the calcium concentration current.\n",
        "\n",
        "\n",
        "# Early-phase:\n",
        "tau_h_c = 68.84 # [s] # The early-phase time constant.\n",
        "C = 1.2215 * 10**(-12) # The capacitance of the capacitor.\n",
        "v_H0 = 0.9 # The reference value of the early-phase weight voltage.\n",
        "I_THPOT = 30 * 10**(-12) # CHANGED FROM: 62 * 10**(-12) The early-phase potentiation threshold for the calcium concentration.\n",
        "I_THDEP = 25* 10**(-12) # CHANGED FROM: 39.5 * 10**(-12) The early-phase depression threshold for the calcium concentration.\n",
        "I_TAILP = 50 * 10**(-12) # The magnitude of the HIGH potentiation current.\n",
        "I_TAILP_low = 1.2 * 10**(-15) # The magnitude of the LOW potentiation current.\n",
        "I_TAILD = 10 * 10**(-12) # CHANGED FROM 10 * 10**(-12) The magnitude of the HIGH depression current.\n",
        "I_TAILD_low = 1.2 * 10**(-15) # The magnitude of the LOW depression current.\n",
        "i_hrp = 2.5 * 10**(-15) # The magnitude of the potentiating-recovery current.\n",
        "i_hrn = 80 * 10**(-15) # The magnitude of the depressing-recovery current.\n",
        "v_h0 = 900 * 10**(-3) # The initial value of the early-phase weight voltage.\n",
        "V_DD = 1.8 # The maximum value of the early-phase weight voltage.\n",
        "\n",
        "# Late phase:\n",
        "z_0 = 0.0 # The initial late-phase value.\n",
        "theta_tag_c = 0.0151226 # The tagging threshold for a synaptic tag to be formed.\n",
        "theta_pro_circuit = 0.01 # The protein capture threshold, for protein capture at a synapse to occur.\n",
        "tau_z_c = 5 # The late-phase time constant.\n",
        "\n",
        "\n",
        "\n",
        "beta = 4.6675*10**(-3) # The constant needed to convvert the early-phase voltage given by Jorge's circuit to voltages comparable with Jannik's paper (and the late phase weight)."
      ],
      "metadata": {
        "id": "QBbb6wmE_Nsf"
      },
      "execution_count": 17,
      "outputs": []
    },
    {
      "cell_type": "markdown",
      "source": [
        "# Training the neural network"
      ],
      "metadata": {
        "id": "Of3zOOJO_UPY"
      }
    },
    {
      "cell_type": "code",
      "source": [
        "tau_m = 0.01 # The neuron membrane time constant.\n",
        "V_rev = -0.065 # The reversal voltage.\n",
        "R_m = 10e6 # The resistance used in the LIF neuron.\n",
        "reset_voltage = -0.07 # The neuron reset voltage.\n",
        "V_spike_threshold = 70 # The spiking threshold for the LIF neuron.\n",
        "refractory_period = 0.0001 # The refractory period following a spike.\n",
        "dt = 0.001 # Time step"
      ],
      "metadata": {
        "id": "8K92rTWwgDTj"
      },
      "execution_count": 18,
      "outputs": []
    },
    {
      "cell_type": "code",
      "source": [
        "manySynapse = many_synapse(\n",
        "    tau_DPI, dt, delta_capre, delta_capost, I_TH, I_INDC, I_TAU, ica_0,\n",
        "    C, v_H0, I_THPOT, I_THDEP, I_TAILP, I_TAILP_low, I_TAILD, I_TAILD_low, i_hrn, i_hrp,\n",
        "    v_h0, V_DD, tau_z_c, z_max, z_min, theta_tag_c, alpha, theta_pro_circuit, z_0, beta, reset_voltage, V_rev, V_spike_threshold, tau_m, R_m, refractory_period\n",
        ")\n",
        "\n",
        "results = []"
      ],
      "metadata": {
        "id": "Vo2CJR6d_WRb"
      },
      "execution_count": 19,
      "outputs": []
    },
    {
      "cell_type": "markdown",
      "source": [
        "## Creating arrays with the final weights and plotting synaptic weights"
      ],
      "metadata": {
        "id": "71a3lfS9OP7t"
      }
    },
    {
      "cell_type": "code",
      "source": [
        "for i, stim in enumerate(stimuli):\n",
        "    results.append(manySynapse(INPUT_SPIKES, stim))"
      ],
      "metadata": {
        "id": "ylCaXSNcGdHi"
      },
      "execution_count": 20,
      "outputs": []
    },
    {
      "cell_type": "code",
      "source": [
        "final_weights = []\n",
        "for i in range(number_secondary_neurons):\n",
        "    w_ji = results[i][3]\n",
        "    final_values = w_ji[-1, :, -1]\n",
        "    final_weights.append(final_values)\n",
        "\n",
        "print(len(final_weights))\n",
        "\n",
        "# Plotting heatmaps\n",
        "fig, axs = plt.subplots(1, number_secondary_neurons, figsize=(15, 5))\n",
        "\n",
        "for i, weights in enumerate(final_weights):\n",
        "    square_grid = weights.reshape((28, 28))\n",
        "\n",
        "    im = axs[i].imshow(square_grid, cmap='hot', interpolation='nearest')\n",
        "    axs[i].set_title(f'Synaptic weights connecting output neuron \\'{i}\\'\\nto input neurons in first layer')\n",
        "    plt.colorbar(im)\n",
        "    axs[1].set_ylabel('Synaptic weight [mV]', fontsize = 12)\n",
        "    axs[i].set_xlabel('Synaptic index - horizontal', fontsize = 12)\n",
        "    axs[0].set_ylabel('Synaptic index - vertical', fontsize = 12)\n",
        "\n",
        "\n",
        "\n",
        "plt.show()\n",
        "plt.tight_layout()"
      ],
      "metadata": {
        "id": "-AWXTIPMOTSf",
        "colab": {
          "base_uri": "https://localhost:8080/",
          "height": 548
        },
        "outputId": "22bb27ab-1ddf-4c46-f44e-094cdf1ebd2d"
      },
      "execution_count": 21,
      "outputs": [
        {
          "output_type": "stream",
          "name": "stdout",
          "text": [
            "2\n"
          ]
        },
        {
          "output_type": "display_data",
          "data": {
            "text/plain": [
              "<Figure size 1500x500 with 4 Axes>"
            ],
            "image/png": "[encoded data removed]"
          },
          "metadata": {}
        },
        {
          "output_type": "display_data",
          "data": {
            "text/plain": [
              "<Figure size 640x480 with 0 Axes>"
            ]
          },
          "metadata": {}
        }
      ]
    },
    {
      "cell_type": "markdown",
      "source": [
        "# Testing the neural network"
      ],
      "metadata": {
        "id": "JE4rmYUECBG2"
      }
    },
    {
      "cell_type": "code",
      "source": [
        "class test_Network(eqx.Module):\n",
        "    tau_DPI: float\n",
        "    dt: float\n",
        "    delta_capre: float\n",
        "    delta_capost: float\n",
        "    I_TH: float\n",
        "    I_INDC: float\n",
        "    I_TAU: float\n",
        "    ica_0: float\n",
        "    C: float\n",
        "    v_H0: float\n",
        "    I_THPOT: float\n",
        "    I_THDEP: float\n",
        "    I_TAILP: float\n",
        "    I_TAILP_low: float\n",
        "    I_TAILD: float\n",
        "    I_TAILD_low: float\n",
        "    i_hrn: float\n",
        "    i_hrp: float\n",
        "    v_h0: float\n",
        "    V_DD: float\n",
        "    tau_z_c: float\n",
        "    z_max: float\n",
        "    z_min: float\n",
        "    theta_tag_c: float\n",
        "    alpha: float\n",
        "    theta_pro_circuit: float\n",
        "    z_0: float\n",
        "    beta: float\n",
        "    reset_voltage: float\n",
        "    V_rev: float\n",
        "    V_spike_threshold: float\n",
        "    tau_m: float\n",
        "    R_m: float\n",
        "    refractory_period: float\n",
        "    h_0: float = 0.0\n",
        "\n",
        "    def __call__(self, t_spike_pre_array, w_ji):\n",
        "        num_input_neurons = t_spike_pre_array.shape[0]\n",
        "\n",
        "        # Initial states\n",
        "        V_i = jnp.zeros((1,)) + self.V_rev\n",
        "        t_spike_post = 0.0  # Initialize t_spike_post to 0\n",
        "        refractory_timer = jnp.zeros((1,))\n",
        "        W_ji = w_ji.T\n",
        "\n",
        "        # Lists to store the results\n",
        "        V_i_list = []\n",
        "        t_spike_post_list = []\n",
        "\n",
        "        def step(carry, input_):\n",
        "            t_spike_post, V_i, refractory_timer, w_ji = carry\n",
        "            t_spike_pre = input_\n",
        "\n",
        "            # Code for the neurons in the second layer:..............................\n",
        "\n",
        "            in_refractory = jnp.squeeze(refractory_timer > 0)\n",
        "            V_i = jax.lax.cond(in_refractory, lambda _: jnp.array([self.reset_voltage]), lambda _: V_i, operand=None)\n",
        "\n",
        "            reversal_term = (1 / self.tau_m) * (-V_i + self.V_rev)\n",
        "            pre_spike_contribution = (1 / self.tau_m) * jnp.sum(t_spike_pre * W_ji)\n",
        "\n",
        "            spike_condition = jnp.squeeze(V_i > self.V_spike_threshold)\n",
        "\n",
        "            V_i_new = jax.lax.cond(spike_condition, lambda _: jnp.array([self.reset_voltage]), lambda _: V_i + (reversal_term) * self.dt + pre_spike_contribution, operand=None)\n",
        "\n",
        "            # Update t_spike_post based on spike condition\n",
        "            t_spike_post_new = jax.lax.cond(spike_condition, lambda _: 1.0, lambda _: 0.0, operand=None)\n",
        "            t_spike_post_list.append(t_spike_post_new)\n",
        "\n",
        "            refractory_timer_new = jax.lax.cond(spike_condition, lambda _: jnp.array([self.refractory_period]), lambda _: jax.numpy.maximum(refractory_timer - self.dt, 0), operand=None)\n",
        "\n",
        "            V_i_list.append(V_i_new)\n",
        "\n",
        "            carry = (t_spike_post_new, V_i_new, refractory_timer_new, w_ji)\n",
        "\n",
        "            return carry, (V_i_new, t_spike_post_new)\n",
        "\n",
        "        carry = (t_spike_post, V_i, refractory_timer, w_ji)\n",
        "        _, (V_i, t_spike_post) = jax.lax.scan(step, carry, (t_spike_pre_array.T))\n",
        "\n",
        "        time_array = jnp.arange(len((t_spike_post))) * self.dt\n",
        "\n",
        "        return V_i, t_spike_post, time_array\n",
        "\n"
      ],
      "metadata": {
        "id": "7sX2sWB1T54P"
      },
      "execution_count": 22,
      "outputs": []
    },
    {
      "cell_type": "code",
      "source": [
        "network_test = test_Network(\n",
        "    tau_DPI, dt, delta_capre, delta_capost, I_TH, I_INDC, I_TAU, ica_0,\n",
        "    C, v_H0, I_THPOT, I_THDEP, I_TAILP, I_TAILP_low, I_TAILD, I_TAILD_low, i_hrn, i_hrp,\n",
        "    v_h0, V_DD, tau_z_c, z_max, z_min, theta_tag_c, alpha, theta_pro_circuit, z_0, beta, reset_voltage, V_rev, V_spike_threshold, tau_m, R_m, refractory_period\n",
        ")"
      ],
      "metadata": {
        "id": "te4pjjPI_EdV"
      },
      "execution_count": 23,
      "outputs": []
    },
    {
      "cell_type": "code",
      "source": [
        "number_secondary_neurons = len(final_weights)\n",
        "number_test_samples = len(df_test)\n",
        "print(\"number test samples:\", number_test_samples)\n",
        "\n",
        "# Initialize results_matrix with appropriate dimensions\n",
        "results_matrix = np.zeros((number_secondary_neurons, number_test_samples))\n",
        "\n",
        "# Run network_test for each final weight\n",
        "for neuron_idx, final_weight in enumerate(final_weights):\n",
        "    V_i, t_spike_post, _ = network_test(INPUT_SPIKES_TEST, final_weight/4)\n",
        "\n",
        "    # Divide t_spike_post into subarrays\n",
        "    subarray_length = len(t_spike_post) // number_test_samples\n",
        "    t_spike_post_subarrays = np.array_split(t_spike_post, number_test_samples)\n",
        "\n",
        "    for row_idx, subarray in enumerate(t_spike_post_subarrays):\n",
        "        results_matrix[neuron_idx, row_idx] = jnp.sum(subarray)\n",
        "\n",
        "# Find the secondary neuron that fired the most for each row\n",
        "most_firing_neurons = np.argmax(results_matrix, axis=0)\n",
        "\n",
        "print(len(most_firing_neurons)) # Verify length of most_firing_neurons\n",
        "\n",
        "# Compare with the actual labels\n",
        "correct_predictions = 0\n",
        "for row_idx, row in df_test.iterrows():\n",
        "    true_label = row[0]\n",
        "    predicted_label = most_firing_neurons[row_idx]\n",
        "    if predicted_label == true_label:\n",
        "        correct_predictions += 1\n",
        "\n",
        "print(most_firing_neurons) # Print most_firing_neurons for debugging\n",
        "print(correct_predictions) # Print correct_predictions for debugging\n",
        "\n",
        "# Calculate and print accuracy\n",
        "accuracy = correct_predictions / number_test_samples\n",
        "print(f\"Accuracy: {accuracy * 100:.2f}%\")\n"
      ],
      "metadata": {
        "id": "OgpKy5cGj9PL",
        "colab": {
          "base_uri": "https://localhost:8080/"
        },
        "outputId": "2b45485c-8fcf-401b-ab78-201768ef0a47"
      },
      "execution_count": 24,
      "outputs": [
        {
          "output_type": "stream",
          "name": "stdout",
          "text": [
            "number test samples: 100\n",
            "100\n",
            "[1 0 1 0 0 1 0 0 1 0 1 1 1 1 0 1 0 0 1 1 1 0 0 1 0 1 0 1 1 0 0 1 0 1 1 1 1\n",
            " 0 0 0 1 0 0 0 1 1 1 1 0 1 1 1 0 0 1 1 0 0 1 1 0 1 0 0 0 1 0 0 0 1 0 0 1 1\n",
            " 1 1 1 0 1 1 1 1 0 0 1 1 0 1 1 1 0 1 1 1 0 1 1 0 0 0]\n",
            "93\n",
            "Accuracy: 93.00%\n"
          ]
        }
      ]
    }
  ]
}