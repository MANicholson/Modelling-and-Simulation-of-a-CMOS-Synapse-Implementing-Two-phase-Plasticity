{
  "nbformat": 4,
  "nbformat_minor": 0,
  "metadata": {
    "colab": {
      "provenance": [],
      "authorship_tag": "ABX9TyO9h/a27bDMkIqMyomCPz9e",
      "include_colab_link": true
    },
    "kernelspec": {
      "name": "python3",
      "display_name": "Python 3"
    },
    "language_info": {
      "name": "python"
    }
  },
  "cells": [
    {
      "cell_type": "markdown",
      "metadata": {
        "id": "view-in-github",
        "colab_type": "text"
      },
      "source": [
        "<a href=\"https://colab.research.google.com/github/MANicholson/Modelling-and-Simulation-of-a-CMOS-Synapse-Implementing-Two-phase-Plasticity/blob/main/Differential_equation_based_code.ipynb\" target=\"_parent\"><img src=\"https://colab.research.google.com/assets/colab-badge.svg\" alt=\"Open In Colab\"/></a>"
      ]
    },
    {
      "cell_type": "markdown",
      "source": [
        "# **Imports and installs**"
      ],
      "metadata": {
        "id": "iHUoTZckH7Yv"
      }
    },
    {
      "cell_type": "code",
      "source": [
        "!pip install equinox\n",
        "\n",
        "# Imports\n",
        "import jax\n",
        "import random\n",
        "import jax.numpy as jnp\n",
        "import matplotlib.pyplot as plt\n",
        "import equinox as eqx"
      ],
      "metadata": {
        "colab": {
          "base_uri": "https://localhost:8080/"
        },
        "id": "BfF4bogwIA42",
        "outputId": "9925821a-f145-4dca-cae9-8b858a426f97"
      },
      "execution_count": null,
      "outputs": [
        {
          "output_type": "stream",
          "name": "stdout",
          "text": [
            "Collecting equinox\n",
            "  Downloading equinox-0.11.4-py3-none-any.whl (175 kB)\n",
            "\u001b[2K     \u001b[90m━━━━━━━━━━━━━━━━━━━━━━━━━━━━━━━━━━━━━━━━\u001b[0m \u001b[32m175.2/175.2 kB\u001b[0m \u001b[31m1.2 MB/s\u001b[0m eta \u001b[36m0:00:00\u001b[0m\n",
            "\u001b[?25hRequirement already satisfied: jax>=0.4.13 in /usr/local/lib/python3.10/dist-packages (from equinox) (0.4.26)\n",
            "Collecting jaxtyping>=0.2.20 (from equinox)\n",
            "  Downloading jaxtyping-0.2.30-py3-none-any.whl (41 kB)\n",
            "\u001b[2K     \u001b[90m━━━━━━━━━━━━━━━━━━━━━━━━━━━━━━━━━━━━━━━━\u001b[0m \u001b[32m41.9/41.9 kB\u001b[0m \u001b[31m2.1 MB/s\u001b[0m eta \u001b[36m0:00:00\u001b[0m\n",
            "\u001b[?25hRequirement already satisfied: typing-extensions>=4.5.0 in /usr/local/lib/python3.10/dist-packages (from equinox) (4.12.2)\n",
            "Requirement already satisfied: ml-dtypes>=0.2.0 in /usr/local/lib/python3.10/dist-packages (from jax>=0.4.13->equinox) (0.2.0)\n",
            "Requirement already satisfied: numpy>=1.22 in /usr/local/lib/python3.10/dist-packages (from jax>=0.4.13->equinox) (1.25.2)\n",
            "Requirement already satisfied: opt-einsum in /usr/local/lib/python3.10/dist-packages (from jax>=0.4.13->equinox) (3.3.0)\n",
            "Requirement already satisfied: scipy>=1.9 in /usr/local/lib/python3.10/dist-packages (from jax>=0.4.13->equinox) (1.11.4)\n",
            "Collecting typeguard==2.13.3 (from jaxtyping>=0.2.20->equinox)\n",
            "  Downloading typeguard-2.13.3-py3-none-any.whl (17 kB)\n",
            "Installing collected packages: typeguard, jaxtyping, equinox\n",
            "Successfully installed equinox-0.11.4 jaxtyping-0.2.30 typeguard-2.13.3\n"
          ]
        }
      ]
    },
    {
      "cell_type": "markdown",
      "source": [
        "# **Differential equations**"
      ],
      "metadata": {
        "id": "pZ6kbeuYHy-a"
      }
    },
    {
      "cell_type": "code",
      "execution_count": null,
      "metadata": {
        "id": "zXw03KzaHqQR"
      },
      "outputs": [],
      "source": [
        "class full_synapse_diff(eqx.Module):\n",
        "    # Calcium constants --------------------------------------------------------\n",
        "    c_pre: float\n",
        "    c_post: float\n",
        "    tau_c: float\n",
        "    dt: float\n",
        "    c_0: float\n",
        "    # Early-phase constants ----------------------------------------------------\n",
        "    tau_h: float\n",
        "    h_max: float\n",
        "    gamma_p: float\n",
        "    gamma_d: float\n",
        "    theta_p: float\n",
        "    theta_d: float\n",
        "    h_0: float\n",
        "    h_init: float\n",
        "    # Late-phase constants -----------------------------------------------------\n",
        "    tau_z: float\n",
        "    z_max: float\n",
        "    z_min: float\n",
        "    theta_tag: float\n",
        "    alpha: float\n",
        "    theta_pro: float\n",
        "    z_0: float\n",
        "\n",
        "    def __init__(self, c_pre, c_post, tau_c, dt, c_0, tau_h, h_max, gamma_p, gamma_d, theta_p, theta_d, h_0, h_init, tau_z, z_max, z_min, theta_tag, alpha, theta_pro, z_0):\n",
        "        # Calcium constants ----------------------------------------------------\n",
        "        self.c_pre = c_pre\n",
        "        self.c_post = c_post\n",
        "        self.tau_c = tau_c\n",
        "        self.dt = dt\n",
        "        self.c_0 = c_0\n",
        "        # Early-phase constants ------------------------------------------------\n",
        "        self.tau_h = tau_h\n",
        "        self.h_max = h_max\n",
        "        self.gamma_p = gamma_p\n",
        "        self.gamma_d = gamma_d\n",
        "        self.theta_p = theta_p\n",
        "        self.theta_d = theta_d\n",
        "        self.h_0 = h_0\n",
        "        self.h_init = h_init\n",
        "        # Late-phase constants -------------------------------------------------\n",
        "        self.tau_z = tau_z\n",
        "        self.z_max = z_max\n",
        "        self.z_min = z_min\n",
        "        self.theta_tag = theta_tag\n",
        "        self.alpha = alpha\n",
        "        self.theta_pro = theta_pro\n",
        "        self.z_0 = z_0\n",
        "\n",
        "    def __call__(self, input_):\n",
        "\n",
        "        # Calcium part ---------------------------------------------------------\n",
        "        c_ji_0 = jnp.zeros((1,)) + self.c_0  # Initial state\n",
        "\n",
        "        def differential_eq_calcium(c_ji, input_):\n",
        "            t_spike_pre, t_spike_post = input_\n",
        "\n",
        "            dc_dt = -c_ji / self.tau_c\n",
        "            c_pre_increase = t_spike_pre * self.c_pre\n",
        "            c_post_increase = t_spike_post * self.c_post\n",
        "\n",
        "            c_ji_new = c_ji + dc_dt * self.dt + c_pre_increase + c_post_increase\n",
        "\n",
        "            return c_ji_new, c_ji_new\n",
        "\n",
        "        _, c_ji = jax.lax.scan(differential_eq_calcium, c_ji_0, input_)\n",
        "\n",
        "        time_array = jnp.arange(len(c_ji)) * self.dt\n",
        "\n",
        "        # Early-phase part -----------------------------------------------------\n",
        "        if self.h_init is None:\n",
        "            self.h_init = self.h_0\n",
        "\n",
        "        h_ji_0 = jnp.zeros((1,)) + self.h_init\n",
        "\n",
        "        def differential_eq_early_phase(h_ji, c_ji):\n",
        "            # Early-phase weight decay:\n",
        "            decay_term = (1 / self.tau_h) * 0.1 * (self.h_0 - h_ji)\n",
        "\n",
        "            # Early-phase LTP (potentiation occurs when the calcium concentration surpasses the specified threshold)\n",
        "            ltp_term = (1 / self.tau_h) * self.gamma_p * (self.h_max - h_ji) * (c_ji > self.theta_p)\n",
        "\n",
        "            # Early-phase LTD (depression occurs when the calcium concentration surpasses the specified threshold)\n",
        "            ltd_term = (1 / self.tau_h) * self.gamma_d * h_ji * (c_ji > self.theta_d)\n",
        "\n",
        "            # Combine terms\n",
        "            dh_dt = decay_term + ltp_term - ltd_term\n",
        "\n",
        "            # Update the early-phase variable using Euler's method\n",
        "            h_ji_new = h_ji + dh_dt * self.dt\n",
        "\n",
        "            return h_ji_new, h_ji_new\n",
        "\n",
        "        _, h_ji = jax.lax.scan(differential_eq_early_phase, h_ji_0, c_ji)\n",
        "\n",
        "        # Late-phase part ------------------------------------------------------\n",
        "        z_ji_0 = jnp.zeros((1,)) + self.z_0\n",
        "\n",
        "        # Set the protein availability to 0:\n",
        "        p_i = 0.0\n",
        "\n",
        "        def differential_eq_late_phase(carry, input_):\n",
        "            z_ji, p_i = carry\n",
        "            h_ji, c_ji = input_\n",
        "\n",
        "            # Early-phase change of neuron i\n",
        "            epsilon_hi = jnp.abs(h_ji - self.h_0)\n",
        "\n",
        "            # Check if the early-phase change is sufficient to trigger protein synthesis:\n",
        "            condition = jnp.squeeze(epsilon_hi > self.theta_pro)\n",
        "            p_i = jax.lax.cond(condition, lambda _: self.alpha, lambda _: p_i, operand=None)\n",
        "\n",
        "            # Calculate the change in late-phase variable based on the differential equation.\n",
        "\n",
        "            # Potentiation contribution\n",
        "            pot_term = p_i * (self.z_max - z_ji) * ((h_ji - self.h_0 - self.theta_tag) > 0)\n",
        "\n",
        "            # Depression contribution\n",
        "            dep_term = p_i * (z_ji - self.z_min) * ((self.h_0 - h_ji - self.theta_tag) > 0)\n",
        "\n",
        "            # Combine terms to get the total change\n",
        "            dz_dt = (1 / self.tau_z) * (pot_term - dep_term)\n",
        "\n",
        "            # Update late-phase variable using Euler's method\n",
        "            z_ji_new = z_ji + dz_dt * self.dt\n",
        "\n",
        "            return (z_ji_new, p_i), z_ji_new\n",
        "\n",
        "        carry = (z_ji_0, p_i)\n",
        "        inputs = (h_ji, c_ji)\n",
        "        _, z_ji = jax.lax.scan(differential_eq_late_phase, carry, inputs)\n",
        "\n",
        "        # Calculate the total synaptic weight ----------------------------------\n",
        "\n",
        "        w_ji_0 = jnp.zeros((1,)) + h_ji_0 + h_ji_0 * z_ji_0\n",
        "\n",
        "\n",
        "        def total_synaptic_weight(w_ji, Inputs_):\n",
        "            h_ji, z_ji = Inputs_\n",
        "\n",
        "            w_ji_new = h_ji + h_ji_0 * z_ji\n",
        "\n",
        "            return w_ji_new, w_ji_new\n",
        "\n",
        "\n",
        "        Inputs_ = (h_ji, z_ji)\n",
        "        _, w_ji = jax.lax.scan(total_synaptic_weight, w_ji_0, Inputs_)\n",
        "\n",
        "        return c_ji, h_ji, z_ji, w_ji, time_array\n"
      ]
    },
    {
      "cell_type": "markdown",
      "source": [
        "# **Testing**"
      ],
      "metadata": {
        "id": "Y3eNbnK5IvLq"
      }
    },
    {
      "cell_type": "markdown",
      "source": [
        "## Defining constants (for the differential equation code)"
      ],
      "metadata": {
        "id": "sqnaH9PtI3pb"
      }
    },
    {
      "cell_type": "code",
      "source": [
        "# Constants\n",
        "\n",
        "# tc_delay = 0.0188  # Delay of postsynaptic calcium influx after presynaptic spike [s]\n",
        "c_pre = 0.6  # Presynaptic calcium contribution [in vivo adjusted]\n",
        "c_post = 0.1655  # Postsynaptic calcium contribution [in vivo adjusted]\n",
        "tau_c = 0.0488  # Calcium time constant [s]\n",
        "tau_h = 688.4 # ALTERED FROM 688.4  # Early-phase time constant [s]\n",
        "tau_p = 60*60  # Protein time constant [s]\n",
        "tau_z = 60*60  # Late-phase time constant [s]\n",
        "# nu_th = 40  # Firing rate threshold for LTP induction [Hz]\n",
        "gamma_p = 1645.6 # ALTERED FROM 1645.6  # Potentiation rate\n",
        "gamma_d = 313.1 # ALTERED FROM 313.1  # Depression rate\n",
        "theta_p = 0.3 # ALTERED FROM 3  # Calcium threshold for potentiation\n",
        "theta_d = 0.2 # ALTERED FROM 1.2  # Calcium threshold for depression\n",
        "# sigma_pl = 2.90436 * 10**(-3)  # Standard deviation for plasticity fluctuations [V]\n",
        "alpha = 1.0  # Protein synthesis rate\n",
        "theta_pro = 0.0023 #2.10037  * 10**(-3)  # Protein synthesis threshold [V]\n",
        "theta_tag = 0.640149  * 10**(-4)  # Tagging threshold [V]\n",
        "h_0 = 4.20075  * 10**(-3) # Median initial excitatory→excitatory coupling strength [V]\n",
        "h_init = h_0\n",
        "z_0 = 0.1\n",
        "# Combining Jorge's thesis and Jannik's paper\n",
        "\n",
        "h_max = 10 * 10**(-3) # The maximum value of the early-phase variable [V]\n",
        "z_max = 1 # The minimum value of the late-phase variable\n",
        "z_min = - 0.5 # The maximum value of the late-phase variable\n",
        "\n",
        "# beta = 4.6675*10**(-3)"
      ],
      "metadata": {
        "id": "JC_h7V4qIuVe"
      },
      "execution_count": null,
      "outputs": []
    },
    {
      "cell_type": "markdown",
      "source": [
        "## Test input"
      ],
      "metadata": {
        "id": "Z09Al0_bJHQa"
      }
    },
    {
      "cell_type": "markdown",
      "source": [
        "### Test input generator"
      ],
      "metadata": {
        "id": "eonTqbujKvgV"
      }
    },
    {
      "cell_type": "code",
      "source": [
        "import jax\n",
        "import jax.numpy as jnp\n",
        "import jax.random as random\n",
        "\n",
        "def generate_binary_array(length, ratio, key):\n",
        "    \"\"\"\n",
        "    Generate a binary array of 0s and 1s with a specific ratio of 1s to 0s.\n",
        "\n",
        "    Args:\n",
        "        length (int): Length of the array.\n",
        "        ratio (float): Desired ratio of 1s to 0s.\n",
        "        key (jax.random.PRNGKey): Random key for JAX's random number generator.\n",
        "\n",
        "    Returns:\n",
        "        jax.numpy.ndarray: Array of 0s and 1s with the specified ratio.\n",
        "    \"\"\"\n",
        "    num_ones = int(length * ratio)\n",
        "    num_zeros = length - num_ones\n",
        "\n",
        "    # Create an array with the specified number of 1s and 0s\n",
        "    binary_array = jnp.array([1] * num_ones + [0] * num_zeros)\n",
        "\n",
        "    # Shuffle the array to randomize the distribution of 1s and 0s\n",
        "    shuffled_array = random.permutation(key, binary_array)\n",
        "\n",
        "    return shuffled_array\n",
        "\n",
        "# Example usage\n",
        "key = random.PRNGKey(0)\n",
        "length = 100  # Length of the array\n",
        "ratio = 0.1   # Desired ratio of 1s to 0s\n",
        "\n",
        "pre_spikes =  [0, 1, 0, 0, 0, 1, 0, 0, 0, 0, 0, 0, 0, 0, 0, 0, 1, 0, 0, 0, 0, 1, 1, 0, 0, 0, 0, 0, 1, 1, 0, 0, 0, 0, 0, 0, 0, 0, 1, 0] #generate_binary_array(length, ratio, key)\n",
        "\n",
        "post_spikes = [0, 1, 0, 0, 0, 0, 0, 1, 0, 0, 0, 0, 1, 0, 1, 0, 0, 0, 0, 1, 0, 0, 0, 0, 1, 0, 1, 0, 0, 0, 0, 0, 1, 0, 0, 0, 1, 0, 0, 0] #generate_binary_array(length, ratio, key)\n",
        "\n"
      ],
      "metadata": {
        "id": "gb201dT4Kxbq"
      },
      "execution_count": null,
      "outputs": []
    },
    {
      "cell_type": "code",
      "source": [
        "# Add 300 zeros to the end of the array\n",
        "post_spikes.extend([0] )\n",
        "pre_spikes.extend([0])\n",
        "\n",
        "print(post_spikes)\n",
        "print(pre_spikes)\n",
        "print(f\"Length of post_spikes: {len(post_spikes)}\")\n",
        "\n",
        "t_array = jnp.linspace(0, 10, len(pre_spikes))\n",
        "dt = 0.01\n",
        "\n",
        "t_array_c = jnp.linspace(0, 50, len(pre_spikes))\n",
        "dt_c = 0.001\n"
      ],
      "metadata": {
        "colab": {
          "base_uri": "https://localhost:8080/"
        },
        "id": "mLVD91p5T-oS",
        "outputId": "4c2891dd-8c86-43cb-9133-2a620e21d0e2"
      },
      "execution_count": null,
      "outputs": [
        {
          "output_type": "stream",
          "name": "stdout",
          "text": [
            "[0, 1, 0, 0, 0, 0, 0, 1, 0, 0, 0, 0, 1, 0, 1, 0, 0, 0, 0, 1, 0, 0, 0, 0, 1, 0, 1, 0, 0, 0, 0, 0, 1, 0, 0, 0, 1, 0, 0, 0, 0]\n",
            "[0, 1, 0, 0, 0, 1, 0, 0, 0, 0, 0, 0, 0, 0, 0, 0, 1, 0, 0, 0, 0, 1, 1, 0, 0, 0, 0, 0, 1, 1, 0, 0, 0, 0, 0, 0, 0, 0, 1, 0, 0]\n",
            "Length of post_spikes: 41\n"
          ]
        }
      ]
    },
    {
      "cell_type": "code",
      "source": [
        "# Initialize time array and concentration array.\n",
        "t_max = t_array[-1]\n",
        "t = jnp.arange(0, t_max + dt, dt)\n",
        "\n",
        "# Map presynaptic spike times onto new t array to ensure the spikes on a multiple of dt\n",
        "t_spike_pre_new = jnp.zeros_like(t)\n",
        "for i, time_point in enumerate(t_array):\n",
        "    # Find the index of the closest time point in 't'\n",
        "    closest_idx = jnp.argmin(jnp.abs(t - time_point))\n",
        "    # Assign the value from 'i_in' to the corresponding location in 'i_new'\n",
        "    t_spike_pre_new = t_spike_pre_new.at[closest_idx].set(pre_spikes[i])\n",
        "\n",
        "\n",
        "# Map postsynaptic spike times onto new t array to ensure the spikes on a multiple of dt\n",
        "t_spike_post_new = jnp.zeros_like(t)\n",
        "for i, time_point in enumerate(t_array):\n",
        "    # Find the index of the closest time point in 't'\n",
        "    closest_idx = jnp.argmin(jnp.abs(t - time_point))\n",
        "    # Assign the value from 'i_in' to the corresponding location in 'i_new'\n",
        "    t_spike_post_new = t_spike_post_new.at[closest_idx].set(post_spikes[i])"
      ],
      "metadata": {
        "id": "AJnkVc4nX_0S"
      },
      "execution_count": null,
      "outputs": []
    },
    {
      "cell_type": "code",
      "source": [
        "# Initialize time array and concentration array.\n",
        "t_max_c = t_array_c[-1]\n",
        "t_c = jnp.arange(0, t_max_c + dt_c, dt_c)\n",
        "\n",
        "# Map presynaptic spike times onto new t array to ensure the spikes on a multiple of dt\n",
        "t_spike_pre_new_c = jnp.zeros_like(t_c)\n",
        "for i, time_point in enumerate(t_array_c):\n",
        "    # Find the index of the closest time point in 't'\n",
        "    closest_idx_c = jnp.argmin(jnp.abs(t_c - time_point))\n",
        "    # Assign the value from 'i_in' to the corresponding location in 'i_new'\n",
        "    t_spike_pre_new_c = t_spike_pre_new_c.at[closest_idx_c].set(pre_spikes[i])\n",
        "\n",
        "# Map postsynaptic spike times onto new t array to ensure the spikes on a multiple of dt\n",
        "t_spike_post_new_c = jnp.zeros_like(t_c)\n",
        "for i, time_point in enumerate(t_array_c):\n",
        "    # Find the index of the closest time point in 't'\n",
        "    closest_idx_c = jnp.argmin(jnp.abs(t_c - time_point))\n",
        "    # Assign the value from 'i_in' to the corresponding location in 'i_new'\n",
        "    t_spike_post_new_c = t_spike_post_new_c.at[closest_idx_c].set(post_spikes[i])"
      ],
      "metadata": {
        "id": "T5dgSLiDt8L_"
      },
      "execution_count": null,
      "outputs": []
    },
    {
      "cell_type": "code",
      "source": [
        "synapseModel = full_synapse_diff(c_pre, c_post, tau_c, dt, 0, tau_h, h_max, gamma_p, gamma_d, theta_p, theta_d, h_0, h_init, tau_z, z_max, z_min, theta_tag, alpha, theta_pro, z_0)\n",
        "\n",
        "c_ji_eqx, h_ji_eqx, z_ji_eqx, w_ji_eqx, t_eqx = synapseModel((jnp.array(t_spike_pre_new), jnp.array(t_spike_post_new)))"
      ],
      "metadata": {
        "id": "fAnuiRVFJJOA"
      },
      "execution_count": null,
      "outputs": []
    }
  ]
}